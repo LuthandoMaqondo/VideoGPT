{
 "cells": [
  {
   "cell_type": "code",
   "execution_count": null,
   "metadata": {},
   "outputs": [],
   "source": [
    "import sys\n",
    "import argparse\n",
    "import pytorch_lightning as pl\n",
    "from pytorch_lightning.callbacks import ModelCheckpoint\n",
    "from videogpt import VQVAE, VideoData\n",
    "\n",
    "# The actual code is one level higher in folder depth/structure, so we're elevating this notebook.\n",
    "sys.path.insert(0, \"../\") "
   ]
  },
  {
   "cell_type": "code",
   "execution_count": null,
   "metadata": {},
   "outputs": [],
   "source": [
    "pl.seed_everything(1234)\n",
    "\n",
    "parser = argparse.ArgumentParser()\n",
    "parser = pl.Trainer.add_argparse_args(parser)\n",
    "parser = VQVAE.add_model_specific_args(parser)\n",
    "parser.add_argument('--data_path', type=str, default='/home/wilson/data/datasets/bair.hdf5')\n",
    "parser.add_argument('--sequence_length', type=int, default=16)\n",
    "parser.add_argument('--resolution', type=int, default=64)\n",
    "parser.add_argument('--batch_size', type=int, default=32)\n",
    "parser.add_argument('--num_workers', type=int, default=8)\n",
    "args = parser.parse_args()\n",
    "\n",
    "data = VideoData(args)\n",
    "# pre-make relevant cached files if necessary\n",
    "data.train_dataloader()\n",
    "data.test_dataloader()\n",
    "model = VQVAE(args)\n",
    "\n",
    "callbacks = []\n",
    "callbacks.append(ModelCheckpoint(monitor='val/recon_loss', mode='min'))\n",
    "\n",
    "kwargs = dict()\n",
    "if args.gpus > 1:\n",
    "    kwargs = dict(distributed_backend='ddp', gpus=args.gpus)\n",
    "trainer = pl.Trainer.from_argparse_args(args, callbacks=callbacks,\n",
    "                                        max_steps=200000, **kwargs)\n",
    "\n",
    "trainer.fit(model, data)"
   ]
  }
 ],
 "metadata": {
  "kernelspec": {
   "display_name": "base",
   "language": "python",
   "name": "python3"
  },
  "language_info": {
   "codemirror_mode": {
    "name": "ipython",
    "version": 3
   },
   "file_extension": ".py",
   "mimetype": "text/x-python",
   "name": "python",
   "nbconvert_exporter": "python",
   "pygments_lexer": "ipython3",
   "version": "3.11.4"
  }
 },
 "nbformat": 4,
 "nbformat_minor": 2
}
